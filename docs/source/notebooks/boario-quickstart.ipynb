{
 "cells": [
  {
   "cell_type": "markdown",
   "id": "b4f2960c",
   "metadata": {},
   "source": [
    "# Quickstart example\n",
    "\n",
    "In the following example, we use the \"test\" MRIOT of the pymrio module,\n",
    "which doesn't require loading additional data and has a low number of sectors and\n",
    "regions, allowing fast computation."
   ]
  },
  {
   "cell_type": "markdown",
   "id": "268d8c43",
   "metadata": {},
   "source": [
    "## Instantiating a model from a MRIOT system\n",
    "\n",
    "First import the required elements. We use the ARIOPsiModel version here (which you probably should as well)."
   ]
  },
  {
   "cell_type": "code",
   "execution_count": null,
   "id": "9bc7e315",
   "metadata": {},
   "outputs": [],
   "source": [
    "# import pymrio for the test MRIOT\n",
    "import pymrio\n",
    "# import the different classes\n",
    "from boario.extended_models import ARIOPsiModel  # The core of the model"
   ]
  },
  {
   "cell_type": "markdown",
   "id": "132749ea",
   "metadata": {},
   "source": [
    "Some attributes of the test MRIOT are not computed. Calling calc_all() ensures all required tables are present in the IOSystem object. This ``pymrio.IOSystem`` method automatically identifies which tables are missing and calculates them following the IO formal framework. (See [here](https://pymrio.readthedocs.io/en/latest/math.html) for more details.)"
   ]
  },
  {
   "cell_type": "code",
   "execution_count": null,
   "id": "347595c0",
   "metadata": {},
   "outputs": [],
   "source": [
    "mriot = pymrio.load_test().calc_all()"
   ]
  },
  {
   "cell_type": "markdown",
   "id": "b5284dae",
   "metadata": {},
   "source": [
    "If you see multiple: ``FutureWarning: DataFrame.groupby with axis=1 is deprecated. Do \\`frame.T.groupby(...)\\` without axis instead.``\n",
    "don't panic, this comes from `pymrio` but it is not an error, just a syntax warning.\n",
    "\n",
    "In case you find it annoying, you can use the following beforehand:"
   ]
  },
  {
   "cell_type": "code",
   "execution_count": null,
   "id": "7a568ae5",
   "metadata": {},
   "outputs": [],
   "source": [
    "import warnings\n",
    "warnings.simplefilter(action='ignore', category=FutureWarning)"
   ]
  },
  {
   "cell_type": "markdown",
   "id": "453afa0d",
   "metadata": {},
   "source": [
    "Instantiating the model is very straightforward:"
   ]
  },
  {
   "cell_type": "code",
   "execution_count": null,
   "id": "47d4962d",
   "metadata": {},
   "outputs": [],
   "source": [
    "model = ARIOPsiModel(mriot)"
   ]
  },
  {
   "cell_type": "markdown",
   "id": "1d504000",
   "metadata": {},
   "source": [
    "This sets the model with all the default parameters. We highly recommand you to study the different parameters and their options for actual use. See [Changing the model parameters](../tutorials/model-params.rst)."
   ]
  },
  {
   "cell_type": "markdown",
   "id": "b69c3e85",
   "metadata": {},
   "source": [
    "Similarly, instantiating a simulation is also quite easy:"
   ]
  },
  {
   "cell_type": "code",
   "execution_count": null,
   "id": "3faa2992",
   "metadata": {},
   "outputs": [],
   "source": [
    "from boario.simulation import Simulation  # Simulation wraps the model\n",
    "\n",
    "sim = Simulation(model,n_temporal_units_to_sim=730)"
   ]
  },
  {
   "cell_type": "markdown",
   "id": "32d06777",
   "metadata": {},
   "source": [
    "Once the model and simulation have been instantiated, you can now define an event:"
   ]
  },
  {
   "cell_type": "code",
   "execution_count": null,
   "id": "649d8dc8",
   "metadata": {},
   "outputs": [],
   "source": [
    "from boario.event import EventKapitalRebuild  # A class defining a shock on capital\n",
    "\n",
    "# Instantiate an event.\n",
    "ev = EventKapitalRebuild.from_scalar_regions_sectors(\n",
    "  impact=500000,\n",
    "  regions=[\"reg1\"],\n",
    "  sectors=[\"manufactoring\", \"mining\"],\n",
    "  impact_sectoral_distrib = \"gdp\",\n",
    "  rebuilding_sectors={\"construction\": 0.55,\"manufactoring\": 0.45},\n",
    "  rebuilding_factor=1.0,\n",
    "  rebuild_tau=90,\n",
    ")"
   ]
  },
  {
   "cell_type": "markdown",
   "id": "64f06955",
   "metadata": {},
   "source": [
    "Here we define an event happening in region ``reg1`` impacting the productive capital of the ``manufactoring``[^note-1] and ``mining`` sectors. The impact is distributed among the two sectors proportional to their participation to ``reg1``'s GDP.\n",
    "\n",
    "Here the entire impact is translated into a reconstruction demand, handled by the ``construction`` (55%) and ``manufactoring`` (45%) sectors. This reconstruction has a characteristic time of 90 unit steps.\n",
    "\n",
    "There are different types of Event subclasses implented in BoARIO, each with there specificities, to allow the modeling of different types of shocks. See [Defining events](../tutorials/boario-events.rst), for more in depth explanation on how to define events.\n",
    "\n",
    "[^note-1]: This typo in the \"manufacturing\" sector's name comes from pymrio."
   ]
  },
  {
   "cell_type": "markdown",
   "id": "1981ad4e",
   "metadata": {},
   "source": [
    "The event can then be added to the simulation:"
   ]
  },
  {
   "cell_type": "code",
   "execution_count": null,
   "id": "d200e2e2",
   "metadata": {},
   "outputs": [],
   "source": [
    "# Add the event to the simulation\n",
    "sim.add_event(ev)"
   ]
  },
  {
   "cell_type": "markdown",
   "id": "526824cc",
   "metadata": {},
   "source": [
    "And the loop can be run:"
   ]
  },
  {
   "cell_type": "code",
   "execution_count": null,
   "id": "c07b1032",
   "metadata": {},
   "outputs": [],
   "source": [
    "# Launch the simulation\n",
    "sim.loop(progress=False)"
   ]
  },
  {
   "cell_type": "markdown",
   "id": "e1eb4f5f",
   "metadata": {},
   "source": [
    "Once the simulation ran, you can access and plot the timeseries of the variables (see [Monitoring the variables](../tutorials/simulation-context.rst#monitoring-the-model-variables) for a list of accessible variables).\n",
    "\n",
    "Here is an example showing the relative change in production in the different sectors in ``\"reg1\"``."
   ]
  },
  {
   "cell_type": "code",
   "execution_count": null,
   "id": "0945f5f9",
   "metadata": {},
   "outputs": [],
   "source": [
    "# You can generate a dataframe of\n",
    "# the production with the following line\n",
    "df = sim.production_realised\n",
    "# This allows to normalize production at its initial level\n",
    "df = df / df.loc[0]\n",
    "\n",
    "df.loc[:, (\"reg1\", slice(None))].plot()"
   ]
  }
 ],
 "metadata": {
  "kernelspec": {
   "display_name": "boario",
   "language": "python",
   "name": "boario"
  }
 },
 "nbformat": 4,
 "nbformat_minor": 5
}