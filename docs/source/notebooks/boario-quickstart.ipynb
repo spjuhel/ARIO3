{
 "cells": [
  {
   "cell_type": "code",
   "execution_count": 11,
   "id": "103a5296-c7ab-4264-8c07-514df7bed2bd",
   "metadata": {
    "editable": true,
    "nbsphinx": "hidden",
    "slideshow": {
     "slide_type": ""
    },
    "tags": []
   },
   "outputs": [],
   "source": [
    "import warnings\n",
    "\n",
    "warnings.simplefilter(action=\"ignore\", category=FutureWarning)"
   ]
  },
  {
   "cell_type": "markdown",
   "id": "7d781ad9-ecdb-4eb6-96cf-021d685b212d",
   "metadata": {
    "editable": true,
    "slideshow": {
     "slide_type": ""
    },
    "tags": []
   },
   "source": [
    "# Quickstart example\n",
    "\n",
    "In the following example, we use the \"test\" MRIOT of the pymrio module,\n",
    "which doesn't require loading additional data and has a low number of sectors and\n",
    "regions, allowing fast computation."
   ]
  },
  {
   "cell_type": "markdown",
   "id": "268d8c43",
   "metadata": {
    "editable": true,
    "slideshow": {
     "slide_type": ""
    },
    "tags": []
   },
   "source": [
    "## Instantiating a model from a MRIOT system\n",
    "\n",
    "First import the required elements. We use the ARIOPsiModel version here (which you probably should as well)."
   ]
  },
  {
   "cell_type": "code",
   "execution_count": 12,
   "id": "9bc7e315",
   "metadata": {
    "editable": true,
    "slideshow": {
     "slide_type": ""
    },
    "tags": []
   },
   "outputs": [],
   "source": [
    "# import pymrio for the test MRIOT\n",
    "import pymrio\n",
    "\n",
    "# import the different classes\n",
    "from boario.extended_models import ARIOPsiModel  # The core of the model"
   ]
  },
  {
   "cell_type": "markdown",
   "id": "132749ea",
   "metadata": {
    "editable": true,
    "slideshow": {
     "slide_type": ""
    },
    "tags": []
   },
   "source": [
    "Some attributes of the test MRIOT are not computed. Calling calc_all() ensures all required tables are present in the IOSystem object. This ``pymrio.IOSystem`` method automatically identifies which tables are missing and calculates them following the IO formal framework. (See [here](https://pymrio.readthedocs.io/en/latest/math.html) for more details.)"
   ]
  },
  {
   "cell_type": "code",
   "execution_count": 13,
   "id": "347595c0",
   "metadata": {
    "editable": true,
    "slideshow": {
     "slide_type": ""
    },
    "tags": []
   },
   "outputs": [],
   "source": [
    "mriot = pymrio.load_test().calc_all()"
   ]
  },
  {
   "cell_type": "markdown",
   "id": "b5284dae",
   "metadata": {
    "editable": true,
    "slideshow": {
     "slide_type": ""
    },
    "tags": []
   },
   "source": [
    "If you see multiple: ``FutureWarning: DataFrame.groupby with axis=1 is deprecated. Do \\`frame.T.groupby(...)\\` without axis instead.``\n",
    "don't panic, this comes from `pymrio` but it is not an error, just a syntax warning.\n",
    "\n",
    "In case you find it annoying, you can use the following beforehand:"
   ]
  },
  {
   "cell_type": "code",
   "execution_count": 14,
   "id": "7a568ae5",
   "metadata": {
    "editable": true,
    "slideshow": {
     "slide_type": ""
    },
    "tags": []
   },
   "outputs": [],
   "source": [
    "import warnings\n",
    "\n",
    "warnings.simplefilter(action=\"ignore\", category=FutureWarning)"
   ]
  },
  {
   "cell_type": "markdown",
   "id": "453afa0d",
   "metadata": {
    "editable": true,
    "slideshow": {
     "slide_type": ""
    },
    "tags": []
   },
   "source": [
    "Instantiating the model is very straightforward:"
   ]
  },
  {
   "cell_type": "code",
   "execution_count": 74,
   "id": "8b3ecaa9-1d92-4e0a-9f38-17989799390f",
   "metadata": {
    "editable": true,
    "slideshow": {
     "slide_type": ""
    },
    "tags": []
   },
   "outputs": [
    {
     "name": "stderr",
     "output_type": "stream",
     "text": [
      "/home/sjuhel/Repos/BoARIO/boario/model_base.py:277: UserWarning: No capital to VA dictionary given, considering 4/1 ratio\n",
      "  warnings.warn(\"No capital to VA dictionary given, considering 4/1 ratio\")\n"
     ]
    }
   ],
   "source": [
    "model = ARIOPsiModel(mriot)"
   ]
  },
  {
   "cell_type": "markdown",
   "id": "1d504000",
   "metadata": {
    "editable": true,
    "slideshow": {
     "slide_type": ""
    },
    "tags": []
   },
   "source": [
    "This sets the model with all the default parameters. We highly recommand you to study the different parameters and their options for actual use. See [Changing the model parameters](../tutorials/model-params.rst).\n",
    "\n",
    "By default, the model sets the productive capital of each industry to 4 times their Value Added (as Gross Ouptut - Intermediate Demand), you should **not** rely on this."
   ]
  },
  {
   "cell_type": "markdown",
   "id": "b69c3e85",
   "metadata": {
    "editable": true,
    "slideshow": {
     "slide_type": ""
    },
    "tags": []
   },
   "source": [
    "Similarly, instantiating a simulation is also quite easy:"
   ]
  },
  {
   "cell_type": "code",
   "execution_count": 75,
   "id": "6a1dbd1c-64ec-4e8d-8261-fbb778661d72",
   "metadata": {
    "editable": true,
    "slideshow": {
     "slide_type": ""
    },
    "tags": []
   },
   "outputs": [],
   "source": [
    "from boario.simulation import Simulation  # Simulation wraps the model\n",
    "\n",
    "sim = Simulation(model, n_temporal_units_to_sim=365)"
   ]
  },
  {
   "cell_type": "markdown",
   "id": "32d06777",
   "metadata": {
    "editable": true,
    "slideshow": {
     "slide_type": ""
    },
    "tags": []
   },
   "source": [
    "Once the model and simulation have been instantiated, you can now define an event:"
   ]
  },
  {
   "cell_type": "code",
   "execution_count": 76,
   "id": "649d8dc8",
   "metadata": {
    "editable": true,
    "slideshow": {
     "slide_type": ""
    },
    "tags": []
   },
   "outputs": [],
   "source": [
    "from boario import event\n",
    "\n",
    "# Instantiate an event.\n",
    "ev = event.from_scalar_regions_sectors(\n",
    "    impact=5000000,\n",
    "    duration=15,\n",
    "    event_type=\"rebuild\",\n",
    "    affected_regions=[\"reg1\"],\n",
    "    affected_sectors=[\"manufactoring\", \"mining\"],\n",
    "    impact_sectoral_distrib=model.mriot.x.loc[\"reg1\", \"indout\"],\n",
    "    impact_regional_distrib=\"equal\",\n",
    "    rebuilding_sectors={\"construction\": 0.55, \"manufactoring\": 0.45},\n",
    "    rebuild_tau=300,\n",
    ")"
   ]
  },
  {
   "cell_type": "markdown",
   "id": "64f06955",
   "metadata": {
    "editable": true,
    "slideshow": {
     "slide_type": ""
    },
    "tags": []
   },
   "source": [
    "Here we define an event happening in region ``reg1`` impacting the productive capital of the ``manufactoring``[^note-1] and ``mining`` sectors. The impact is distributed among the two sectors proportional to their production output (`mriot.x`).\n",
    "\n",
    "Here the entire impact is translated into a reconstruction demand, handled by the ``construction`` (55%) and ``manufactoring`` (45%) sectors. This reconstruction has a characteristic time of 90 unit steps.\n",
    "\n",
    "There are different types of Event subclasses implented in BoARIO, each with there specificities, to allow the modeling of different types of shocks. See [Defining events](../tutorials/boario-events.rst), for more in depth explanation on how to define events.\n",
    "\n",
    "[^note-1]: This typo in the \"manufacturing\" sector's name comes from pymrio."
   ]
  },
  {
   "cell_type": "markdown",
   "id": "1981ad4e",
   "metadata": {
    "editable": true,
    "slideshow": {
     "slide_type": ""
    },
    "tags": []
   },
   "source": [
    "The event can then be added to the simulation:"
   ]
  },
  {
   "cell_type": "code",
   "execution_count": 77,
   "id": "782641aa-2fd4-4846-8b53-b326557f0ba9",
   "metadata": {
    "editable": true,
    "slideshow": {
     "slide_type": ""
    },
    "tags": []
   },
   "outputs": [
    {
     "name": "stderr",
     "output_type": "stream",
     "text": [
      "/home/sjuhel/Repos/BoARIO/boario/simulation.py:692: UserWarning: Event monetary factors (1), differs from model monetary factor (1000000). Will automatically adjust.\n",
      "  warnings.warn(\n"
     ]
    }
   ],
   "source": [
    "# Add the event to the simulation\n",
    "sim.add_event(ev)"
   ]
  },
  {
   "cell_type": "markdown",
   "id": "4f0c17a3-b345-4681-bd43-cd71ef891932",
   "metadata": {
    "editable": true,
    "slideshow": {
     "slide_type": ""
    },
    "tags": []
   },
   "source": [
    "Note that by default, the impact is considered to be in single units of the currency, while often the MRIOTs are in Millions or Thousands. A warning is raised and the values are automatically adjusted accordingly. See [Handling different monetary factors](../tutorials/monetary-factors.rst) for more details."
   ]
  },
  {
   "cell_type": "markdown",
   "id": "526824cc",
   "metadata": {
    "editable": true,
    "slideshow": {
     "slide_type": ""
    },
    "tags": []
   },
   "source": [
    "And the loop can be run:"
   ]
  },
  {
   "cell_type": "code",
   "execution_count": 78,
   "id": "c07b1032",
   "metadata": {
    "editable": true,
    "slideshow": {
     "slide_type": ""
    },
    "tags": []
   },
   "outputs": [],
   "source": [
    "# Launch the simulation\n",
    "sim.loop()"
   ]
  },
  {
   "cell_type": "markdown",
   "id": "e1eb4f5f",
   "metadata": {
    "editable": true,
    "slideshow": {
     "slide_type": ""
    },
    "tags": []
   },
   "source": [
    "Once the simulation ran, you can access and plot the timeseries of the variables (see [Monitoring the variables](../tutorials/simulation-context.rst#monitoring-the-model-variables) for a list of accessible variables).\n",
    "\n",
    "Here is an example showing the relative change in production in the different sectors in ``\"reg1\"``."
   ]
  },
  {
   "cell_type": "code",
   "execution_count": 79,
   "id": "0945f5f9",
   "metadata": {
    "editable": true,
    "slideshow": {
     "slide_type": ""
    },
    "tags": []
   },
   "outputs": [
    {
     "data": {
      "text/plain": [
       "<Axes: xlabel='step'>"
      ]
     },
     "execution_count": 79,
     "metadata": {},
     "output_type": "execute_result"
    },
    {
     "data": {
      "image/png": "[encoded data removed]",
      "text/plain": [
       "<Figure size 640x480 with 1 Axes>"
      ]
     },
     "metadata": {},
     "output_type": "display_data"
    }
   ],
   "source": [
    "# You can generate a dataframe of\n",
    "# the production with the following line\n",
    "df = sim.production_realised\n",
    "# This allows to normalize production at its initial level\n",
    "df = df / df.loc[0]\n",
    "\n",
    "df.loc[:, (\"reg1\", slice(None))].plot()"
   ]
  },
  {
   "cell_type": "code",
   "execution_count": null,
   "id": "4b148f20-67bc-4a8c-a3f6-04c51b625b02",
   "metadata": {
    "editable": true,
    "slideshow": {
     "slide_type": ""
    },
    "tags": []
   },
   "outputs": [],
   "source": []
  }
 ],
 "metadata": {
  "kernelspec": {
   "display_name": "boario_dev",
   "language": "python",
   "name": "boario_dev"
  },
  "language_info": {
   "codemirror_mode": {
    "name": "ipython",
    "version": 3
   },
   "file_extension": ".py",
   "mimetype": "text/x-python",
   "name": "python",
   "nbconvert_exporter": "python",
   "pygments_lexer": "ipython3",
   "version": "3.12.3"
  }
 },
 "nbformat": 4,
 "nbformat_minor": 5
}
